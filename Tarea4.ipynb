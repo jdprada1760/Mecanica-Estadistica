{
 "metadata": {
  "name": "",
  "signature": "sha256:ee6bd262149bfc54163169a1bc3ae7065e491668ca44b0b338037d6b463f667c"
 },
 "nbformat": 3,
 "nbformat_minor": 0,
 "worksheets": [
  {
   "cells": [
    {
     "cell_type": "code",
     "collapsed": false,
     "input": [
      "%pylab inline\n",
      "from numpy import vectorize"
     ],
     "language": "python",
     "metadata": {},
     "outputs": [
      {
       "output_type": "stream",
       "stream": "stdout",
       "text": [
        "Populating the interactive namespace from numpy and matplotlib\n"
       ]
      },
      {
       "output_type": "stream",
       "stream": "stderr",
       "text": [
        "WARNING: pylab import has clobbered these variables: ['f']\n",
        "`%matplotlib` prevents importing * from pylab and numpy\n"
       ]
      }
     ],
     "prompt_number": 23
    },
    {
     "cell_type": "heading",
     "level": 1,
     "metadata": {},
     "source": [
      "Punto 1"
     ]
    },
    {
     "cell_type": "heading",
     "level": 3,
     "metadata": {},
     "source": [
      "a)"
     ]
    },
    {
     "cell_type": "code",
     "collapsed": false,
     "input": [
      "# funcion que define una ronda en el caso b\n",
      "# Retorna los nuevos fondos\n",
      "def apostarA(fondos):\n",
      "    if fondos != 0:\n",
      "        rand = np.random.random()\n",
      "        # gana 36\n",
      "        if rand <= 1./37.:\n",
      "            nuevosFondos = fondos+36\n",
      "            return nuevosFondos\n",
      "        # pierde 1\n",
      "        else:\n",
      "            nuevosFondos = fondos-1\n",
      "            return nuevosFondos\n",
      "    else: return 0\n",
      "\n",
      "# Permite evaluar multiples valores a la vez en la funcion con arrays como parametros\n",
      "betA = vectorize(apostarA)\n",
      "\n",
      "# Los fondos de las 10000 personas\n",
      "f = 100.*np.ones(10000)\n",
      "for i in range(100):\n",
      "   f = betA(f)\n",
      "print \" La media es: \" , mean(f)\n",
      "# Realiza el histograma de la distribuci\u00f3n de probabilidad\n",
      "plt.hist(f,bins=numpy.arange(amin(f),amax(f),1), normed = True, width = 10)\n",
      "plt.show()"
     ],
     "language": "python",
     "metadata": {},
     "outputs": [
      {
       "output_type": "stream",
       "stream": "stdout",
       "text": [
        " La media es:  99.6558\n"
       ]
      },
      {
       "metadata": {},
       "output_type": "display_data",
       "png": "[encoded data removed]",
       "text": [
        "<matplotlib.figure.Figure at 0x7f6e81d3e610>"
       ]
      }
     ],
     "prompt_number": 37
    },
    {
     "cell_type": "code",
     "collapsed": false,
     "input": [
      "# Calcula el tiempo promedio para que 500 jugadores, de 1000, pierdan todo su dinero\n",
      "t = 0\n",
      "for i in range(10): #10 veces se obtiene el tiempo\n",
      "    b = True\n",
      "    f = 100.*np.ones(1000)\n",
      "    index = 0\n",
      "    while b:\n",
      "        index += 1\n",
      "        # actualiza los fondos\n",
      "        f = betA(f)\n",
      "        # cuenta los que han perdido todo su dinero\n",
      "        nlosers = 0\n",
      "        for g in f:\n",
      "            if g == 0:\n",
      "                nlosers += 1\n",
      "        if(nlosers >= 500):\n",
      "            b = False\n",
      "    t+= index\n",
      "print \"El tiempo promedio para que 500 de 1000 jugadores pierdan todo su dinero es de :\", (t/10.)"
     ],
     "language": "python",
     "metadata": {},
     "outputs": [
      {
       "output_type": "stream",
       "stream": "stdout",
       "text": [
        "El tiempo promedio para que 500 de 1000 jugadores pierdan todo su dinero es de : 643.9\n"
       ]
      }
     ],
     "prompt_number": 38
    },
    {
     "cell_type": "code",
     "collapsed": false,
     "input": [
      "# La razon del espaciamiento\n",
      "# Todos los posibles valores de fondos finales hasta 500 (muy poco probable).\n",
      "for i in range(15):\n",
      "    print 100+ i*36 -(100-i)"
     ],
     "language": "python",
     "metadata": {},
     "outputs": [
      {
       "output_type": "stream",
       "stream": "stdout",
       "text": [
        "0\n",
        "37\n",
        "74\n",
        "111\n",
        "148\n",
        "185\n",
        "222\n",
        "259\n",
        "296\n",
        "333\n",
        "370\n",
        "407\n",
        "444\n",
        "481\n",
        "518\n"
       ]
      }
     ],
     "prompt_number": 33
    },
    {
     "cell_type": "heading",
     "level": 3,
     "metadata": {},
     "source": [
      "b)"
     ]
    },
    {
     "cell_type": "code",
     "collapsed": false,
     "input": [
      "# Funcion que define una ronda para el caso b\n",
      "# Retorna los nuevos fondos\n",
      "def apostarB(fondos):\n",
      "    if fondos != 0:\n",
      "        rand = np.random.random()\n",
      "        # gana 1\n",
      "        if rand <= 18./37.:\n",
      "            nuevosFondos = fondos+1\n",
      "            return nuevosFondos\n",
      "        # pierde 1\n",
      "        else:\n",
      "            nuevosFondos = fondos-1\n",
      "            return nuevosFondos\n",
      "    else: return 0\n",
      "\n",
      "# Permite evaluar multiples valores a la vez en la funcion\n",
      "betB = vectorize(apostarB)\n",
      "\n",
      "# Realiza la simulaci\u00f3n de 100 rondas para una muestra de 10000 apostadores\n",
      "\n",
      "# Los fondos de las 10000 personas \n",
      "f = 100.*np.ones(10000)\n",
      "for i in range(100):\n",
      "    f = betB(f)\n",
      "\n",
      "print \" La media es: \" , mean(f)\n",
      "# Realiza el histograma de la distribuci\u00f3n de probabilidad\n",
      "plt.hist(f,bins=numpy.arange(amin(f),amax(f),1), normed = True, width = 1)\n",
      "plt.show()"
     ],
     "language": "python",
     "metadata": {},
     "outputs": [
      {
       "output_type": "stream",
       "stream": "stdout",
       "text": [
        " La media es: 97.2132\n"
       ]
      },
      {
       "metadata": {},
       "output_type": "display_data",
       "png": "[encoded data removed]",
       "text": [
        "<matplotlib.figure.Figure at 0x7f6e826c4450>"
       ]
      }
     ],
     "prompt_number": 39
    },
    {
     "cell_type": "code",
     "collapsed": false,
     "input": [
      "# Calcula el tiempo promedio para que 500 jugadores, de 1000, pierdan todo su dinero\n",
      "t = 0\n",
      "for i in range(10): #10 veces se obtiene el tiempo\n",
      "    b = True\n",
      "    f = 100.*np.ones(1000)\n",
      "    index = 0\n",
      "    while b:\n",
      "        index += 1\n",
      "        # actualiza los fondos\n",
      "        f = betB(f)\n",
      "        # cuenta los que han perdido todo su dinero\n",
      "        nlosers = 0\n",
      "        for g in f:\n",
      "            if g == 0:\n",
      "                nlosers += 1\n",
      "        if(nlosers >= 500):\n",
      "            b = False\n",
      "    t+= index\n",
      "print \"El tiempo promedio para que 500 de 1000 jugadores pierdan todo su dinero es de :\" , (t/10.)"
     ],
     "language": "python",
     "metadata": {},
     "outputs": [
      {
       "output_type": "stream",
       "stream": "stdout",
       "text": [
        "El tiempo promedio para que 500 de 1000 jugadores pierdan todo su dinero es de : 3151.8\n"
       ]
      }
     ],
     "prompt_number": 41
    },
    {
     "cell_type": "heading",
     "level": 3,
     "metadata": {},
     "source": [
      "c)"
     ]
    },
    {
     "cell_type": "code",
     "collapsed": false,
     "input": [
      "# Funcion que define una ronda para el caso c\n",
      "# nperd: numero de partidas perdidas antes del turno\n",
      "# Retorna los nuevos fondos y 1 si gano , 0 si perdio\n",
      "def apostarC(fondos, nperd):\n",
      "    # Si tiene fondos para apostar, realiza la apuesta\n",
      "    if fondos >= (2**nperd):\n",
      "        rand = 37*np.random.random()\n",
      "        # gana 1\n",
      "        if rand <= 18:\n",
      "            nuevosFondos = fondos+(2**nperd)\n",
      "            # Si gana se restaura nperd\n",
      "            nperd = 0\n",
      "            return nuevosFondos, nperd\n",
      "        # pierde 1\n",
      "        else:\n",
      "            nuevosFondos = fondos-(2**nperd)\n",
      "            nperd += 1\n",
      "            return nuevosFondos, nperd\n",
      "    # Si no tiene los fondos suficientes para ir con el plan, apuesta todo lo que tiene (Si no apuesta, no llega a 0)\n",
      "    elif fondos != 0: \n",
      "        rand = 37*np.random.random()\n",
      "        # gana 1\n",
      "        if rand <= 18:\n",
      "            nuevosFondos = fondos+fondos\n",
      "            # Si gana se restaura nperd\n",
      "            nperd = 0\n",
      "            return nuevosFondos, nperd\n",
      "        # pierde 1\n",
      "        else:\n",
      "            # Si pierde se termina\n",
      "            nuevosFondos = 0\n",
      "            nperd = 0\n",
      "            return nuevosFondos, nperd\n",
      "    else: return 0,0\n",
      "\n",
      "# Permite evaluar multiples valores a la vez en la funcion\n",
      "betC = vectorize(apostarC)\n",
      "# Realiza la simulaci\u00f3n de 100 rondas para una muestra de 10000 apostadores\n",
      "\n",
      "# Los fondos de las 10000 personas \n",
      "f = 100.*np.ones(100000)\n",
      "# Cada persona empieza sin perder\n",
      "nperd = np.zeros(100000)\n",
      "for i in range(100):\n",
      "    f,nperd = betC(f,nperd)\n"
     ],
     "language": "python",
     "metadata": {},
     "outputs": [],
     "prompt_number": 43
    },
    {
     "cell_type": "code",
     "collapsed": false,
     "input": [
      "print \" La media es: \" +str(mean(f))\n",
      "# Realiza el histograma de la distribuci\u00f3n de probabilidad haciendo zoom en el intervalo significativo: 0,400 con barras m\u00e1s grandes\n",
      "plt.hist(f,bins=numpy.arange(amin(f),amax(f),1), normed = True, width = 1)\n",
      "plt.show()"
     ],
     "language": "python",
     "metadata": {},
     "outputs": [
      {
       "output_type": "stream",
       "stream": "stdout",
       "text": [
        " La media es: 91.86704\n"
       ]
      },
      {
       "metadata": {},
       "output_type": "display_data",
       "png": "[encoded data removed]",
       "text": [
        "<matplotlib.figure.Figure at 0x7f6ea1418090>"
       ]
      }
     ],
     "prompt_number": 46
    },
    {
     "cell_type": "code",
     "collapsed": false,
     "input": [
      "# Calcula el tiempo promedio para que 500 jugadores, de 1000, pierdan todo su dinero\n",
      "t = 0\n",
      "for i in range(50): #100 veces se obtiene el tiempo\n",
      "    b = True\n",
      "    f = 100.*np.ones(1000)\n",
      "    nperd = np.zeros(1000)\n",
      "    index = 0\n",
      "    while b:\n",
      "        index += 1\n",
      "        # actualiza los fondos\n",
      "        f,nperd = betC(f,nperd)\n",
      "        # cuenta los que han perdido todo su dinero\n",
      "        nlosers = 0\n",
      "        for g in f:\n",
      "            if g == 0:\n",
      "                nlosers += 1\n",
      "        if(nlosers >= 500):\n",
      "            b = False\n",
      "    t+= index\n",
      "print \"El tiempo promedio para que 500 de 1000 jugadores pierdan todo su dinero es de :\" , (t/100.)"
     ],
     "language": "python",
     "metadata": {},
     "outputs": [
      {
       "output_type": "stream",
       "stream": "stdout",
       "text": [
        "El tiempo promedio para que 500 de 1000 jugadores pierdan todo su dinero es de : 98.16\n"
       ]
      }
     ],
     "prompt_number": 49
    },
    {
     "cell_type": "code",
     "collapsed": false,
     "input": [],
     "language": "python",
     "metadata": {},
     "outputs": []
    }
   ],
   "metadata": {}
  }
 ]
}